{
 "cells": [
  {
   "cell_type": "code",
   "execution_count": 14,
   "id": "5e61d48a",
   "metadata": {},
   "outputs": [],
   "source": [
    "from dotenv import load_dotenv\n",
    "import os\n",
    "from langchain_google_genai import ChatGoogleGenerativeAI, GoogleGenerativeAIEmbeddings  # ✅ both from here now\n",
    "from langchain.chains import ConversationalRetrievalChain\n",
    "from langchain.text_splitter import RecursiveCharacterTextSplitter\n",
    "from langchain_community.vectorstores import FAISS\n",
    "from pypdf import PdfReader\n",
    "\n"
   ]
  },
  {
   "cell_type": "code",
   "execution_count": 15,
   "id": "afbe97be",
   "metadata": {},
   "outputs": [
    {
     "name": "stdout",
     "output_type": "stream",
     "text": [
      "API Key Loaded: Yes\n"
     ]
    }
   ],
   "source": [
    "\n",
    "# 2. Load environment variables\n",
    "load_dotenv()\n",
    "api_key = os.getenv(\"GOOGLE_API_KEY\")\n",
    "\n",
    "# ✅ Test if API key is loaded\n",
    "print(\"API Key Loaded:\", \"Yes\" if api_key else \"No\")"
   ]
  },
  {
   "cell_type": "code",
   "execution_count": 17,
   "id": "2a8e93be",
   "metadata": {},
   "outputs": [],
   "source": [
    "# --- Test Gemini LLM ---\n",
    "# Use a valid Gemini model (gemini-2.0-flash is safe & widely supported)\n",
    "llm = ChatGoogleGenerativeAI(model=\"gemini-2.0-flash\", google_api_key=api_key)"
   ]
  },
  {
   "cell_type": "code",
   "execution_count": 18,
   "id": "cf53bc68",
   "metadata": {},
   "outputs": [
    {
     "name": "stdout",
     "output_type": "stream",
     "text": [
      "LLM Test Response: I am a large language model, trained by Google.\n"
     ]
    }
   ],
   "source": [
    "\n",
    "response = llm.invoke(\"Hello, who are you?\")\n",
    "print(\"LLM Test Response:\", response.content)"
   ]
  },
  {
   "cell_type": "code",
   "execution_count": 24,
   "id": "efb05b90",
   "metadata": {},
   "outputs": [
    {
     "name": "stdout",
     "output_type": "stream",
     "text": [
      "Total characters extracted from PDF: 53130\n"
     ]
    }
   ],
   "source": [
    "# --- Test PDF Q&A Pipeline ---\n",
    "pdf_reader = PdfReader(\"cnn.pdf\")   # make sure sample.pdf is in your folder\n",
    "text = \"\"\n",
    "for page in pdf_reader.pages:\n",
    "    page_text = page.extract_text()\n",
    "    if page_text:\n",
    "        text += page_text\n",
    "\n",
    "print(\"Total characters extracted from PDF:\", len(text))"
   ]
  },
  {
   "cell_type": "code",
   "execution_count": 25,
   "id": "5a1a2e1b",
   "metadata": {},
   "outputs": [
    {
     "name": "stdout",
     "output_type": "stream",
     "text": [
      "Total chunks created: 68\n"
     ]
    }
   ],
   "source": [
    "# Split into chunks\n",
    "splitter = RecursiveCharacterTextSplitter(chunk_size=1000, chunk_overlap=200)\n",
    "chunks = splitter.split_text(text)\n",
    "print(\"Total chunks created:\", len(chunks))\n"
   ]
  },
  {
   "cell_type": "code",
   "execution_count": 28,
   "id": "1e31ec5f",
   "metadata": {},
   "outputs": [],
   "source": [
    "# Create embeddings\n",
    "embeddings = GoogleGenerativeAIEmbeddings(model=\"models/embedding-001\", google_api_key=api_key)\n",
    "vectorstore = FAISS.from_texts(chunks, embeddings)"
   ]
  },
  {
   "cell_type": "code",
   "execution_count": 29,
   "id": "f15a5279",
   "metadata": {},
   "outputs": [
    {
     "name": "stderr",
     "output_type": "stream",
     "text": [
      "C:\\Users\\DELL-PC\\AppData\\Local\\Temp\\ipykernel_16620\\2889074453.py:3: LangChainDeprecationWarning: The method `BaseRetriever.get_relevant_documents` was deprecated in langchain-core 0.1.46 and will be removed in 1.0. Use :meth:`~invoke` instead.\n",
      "  docs = retriever.get_relevant_documents(\"What is this PDF about?\")\n"
     ]
    },
    {
     "name": "stdout",
     "output_type": "stream",
     "text": [
      "PDF Retrieval Result: [4] Y . LeCun, B. Boser, J.S. Denker, D. Henderson, R.E. Howard, W . Hubbard, et al., Backpropagation\n",
      "applied to handwritten zip code recognition, Neural Computation 1 (4) (1989) 541–551, https://\n",
      "doi\n"
     ]
    }
   ],
   "source": [
    "# Ask a question\n",
    "retriever = vectorstore.as_retriever()\n",
    "docs = retriever.get_relevant_documents(\"What is this PDF about?\")\n",
    "print(\"PDF Retrieval Result:\", docs[0].page_content[:200])  # preview first 200 chars"
   ]
  }
 ],
 "metadata": {
  "kernelspec": {
   "display_name": ".venv",
   "language": "python",
   "name": "python3"
  },
  "language_info": {
   "codemirror_mode": {
    "name": "ipython",
    "version": 3
   },
   "file_extension": ".py",
   "mimetype": "text/x-python",
   "name": "python",
   "nbconvert_exporter": "python",
   "pygments_lexer": "ipython3",
   "version": "3.13.3"
  }
 },
 "nbformat": 4,
 "nbformat_minor": 5
}
